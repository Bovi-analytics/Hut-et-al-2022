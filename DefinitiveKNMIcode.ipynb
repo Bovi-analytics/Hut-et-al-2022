{
  "nbformat": 4,
  "nbformat_minor": 0,
  "metadata": {
    "colab": {
      "name": "DefinitiveKNMIcode.ipynb",
      "provenance": [],
      "collapsed_sections": [],
      "include_colab_link": true
    },
    "kernelspec": {
      "display_name": "Python 3",
      "name": "python3"
    },
    "accelerator": "GPU"
  },
  "cells": [
    {
      "cell_type": "markdown",
      "metadata": {
        "id": "view-in-github",
        "colab_type": "text"
      },
      "source": [
        "<a href=\"https://colab.research.google.com/github/Bovi-analytics/Hut-et-al-2022/blob/main/DefinitiveKNMIcode.ipynb\" target=\"_parent\"><img src=\"https://colab.research.google.com/assets/colab-badge.svg\" alt=\"Open In Colab\"/></a>"
      ]
    },
    {
      "cell_type": "markdown",
      "metadata": {
        "id": "MROm8RgH0pb9"
      },
      "source": [
        "# Notebook for  KNMI data\n",
        "\n",
        "This is a Google Colab Notebook. It has a google machine in the back which will activate the moment you click the play button from the first cell. You can run cells separately, or all after each other. It allows you to prototype much easier then using the PyCharm.\n",
        "\n",
        "The notebook can be shared and editted by multiple people. If you want to work in your own version, you can make a copy of the notebook first."
      ]
    },
    {
      "cell_type": "markdown",
      "metadata": {
        "id": "WQHVFkd_ZcBs"
      },
      "source": [
        "#GDrive\n",
        "You need to make a link with the data. This is all stored in your google drive , or in the case of this notebook a bovi-analytics folder.\n",
        "\n",
        "First run the cell underneath, then open the link in the output and copy the code underneath. That way, the Google Drive is connected."
      ]
    },
    {
      "cell_type": "code",
      "metadata": {
        "id": "SiNP_qsYZbLs",
        "colab": {
          "base_uri": "https://localhost:8080/"
        },
        "outputId": "5f45cc10-84a0-4ede-bfe2-5aff21866541"
      },
      "source": [
        "from google.colab import drive \n",
        "drive.mount('/content/gdrive/', force_remount = True) "
      ],
      "execution_count": null,
      "outputs": [
        {
          "output_type": "stream",
          "name": "stdout",
          "text": [
            "Mounted at /content/gdrive/\n"
          ]
        }
      ]
    },
    {
      "cell_type": "code",
      "metadata": {
        "id": "x5_bQubjSFgC"
      },
      "source": [
        "%reload_ext rpy2.ipython"
      ],
      "execution_count": null,
      "outputs": []
    },
    {
      "cell_type": "markdown",
      "metadata": {
        "id": "19WPIZ9D9U3s"
      },
      "source": [
        "I added this piece of code to copy the Google Drive documents to the local Google machine. This was because of gdrive timeouts\n",
        "https://research.google.com/colaboratory/faq.html#drive-timeout"
      ]
    },
    {
      "cell_type": "markdown",
      "metadata": {
        "id": "I1u7UdiX22ZE"
      },
      "source": [
        "# Load libraries"
      ]
    },
    {
      "cell_type": "code",
      "metadata": {
        "id": "oHKFYtt7UXTg"
      },
      "source": [
        "%%R\n",
        "lib_loc <- \"/content/drive/Shareddrives/Bovi-Analytics/R-lib/\""
      ],
      "execution_count": null,
      "outputs": []
    },
    {
      "cell_type": "code",
      "metadata": {
        "colab": {
          "base_uri": "https://localhost:8080/"
        },
        "id": "lAUExPneWjaE",
        "outputId": "a38a4bc2-8a8d-4361-dc4e-eead765239c1"
      },
      "source": [
        "%%R\n",
        "install.packages(\"trees\", lib=lib_loc)"
      ],
      "execution_count": null,
      "outputs": [
        {
          "output_type": "stream",
          "name": "stderr",
          "text": [
            "R[write to console]: Warning in install.packages(\"trees\", lib = lib_loc) :\n",
            "R[write to console]: \n",
            " \n",
            "R[write to console]:  'lib = \"/content/drive/Shareddrives/Bovi-Analytics/R-lib/\"' is not writable\n",
            "\n"
          ]
        },
        {
          "name": "stdout",
          "output_type": "stream",
          "text": [
            "Would you like to use a personal library instead? (yes/No/cancel) yes\n",
            "Would you like to create a personal library\n",
            "‘~/R/x86_64-pc-linux-gnu-library/4.1’\n",
            "to install packages into? (yes/No/cancel) yes\n"
          ]
        }
      ]
    },
    {
      "cell_type": "code",
      "metadata": {
        "id": "7cB6-RHBZIXH"
      },
      "source": [
        "%%R\n",
        "lib_loc=\"~/R/x86_64-pc-linux-gnu-library/4.1\""
      ],
      "execution_count": null,
      "outputs": []
    },
    {
      "cell_type": "code",
      "metadata": {
        "colab": {
          "base_uri": "https://localhost:8080/"
        },
        "id": "sNu8n0-vaJkb",
        "outputId": "33de6e13-d44b-4566-f065-88bbf84b0cd7"
      },
      "source": [
        "%%R\n",
        "install.packages(\"dplyr\", lib=lib_loc)"
      ],
      "execution_count": null,
      "outputs": [
        {
          "output_type": "stream",
          "name": "stderr",
          "text": [
            "R[write to console]: trying URL 'https://cran.rstudio.com/src/contrib/dplyr_1.0.7.tar.gz'\n",
            "\n",
            "R[write to console]: Content type 'application/x-gzip'\n",
            "R[write to console]:  length 852103 bytes (832 KB)\n",
            "\n",
            "R[write to console]: =\n",
            "R[write to console]: =\n",
            "R[write to console]: =\n",
            "R[write to console]: =\n",
            "R[write to console]: =\n",
            "R[write to console]: =\n",
            "R[write to console]: =\n",
            "R[write to console]: =\n",
            "R[write to console]: =\n",
            "R[write to console]: =\n",
            "R[write to console]: =\n",
            "R[write to console]: =\n",
            "R[write to console]: =\n",
            "R[write to console]: =\n",
            "R[write to console]: =\n",
            "R[write to console]: =\n",
            "R[write to console]: =\n",
            "R[write to console]: =\n",
            "R[write to console]: =\n",
            "R[write to console]: =\n",
            "R[write to console]: =\n",
            "R[write to console]: =\n",
            "R[write to console]: =\n",
            "R[write to console]: =\n",
            "R[write to console]: =\n",
            "R[write to console]: =\n",
            "R[write to console]: =\n",
            "R[write to console]: =\n",
            "R[write to console]: =\n",
            "R[write to console]: =\n",
            "R[write to console]: =\n",
            "R[write to console]: =\n",
            "R[write to console]: =\n",
            "R[write to console]: =\n",
            "R[write to console]: =\n",
            "R[write to console]: =\n",
            "R[write to console]: =\n",
            "R[write to console]: =\n",
            "R[write to console]: =\n",
            "R[write to console]: =\n",
            "R[write to console]: =\n",
            "R[write to console]: =\n",
            "R[write to console]: =\n",
            "R[write to console]: =\n",
            "R[write to console]: =\n",
            "R[write to console]: =\n",
            "R[write to console]: =\n",
            "R[write to console]: =\n",
            "R[write to console]: =\n",
            "R[write to console]: =\n",
            "R[write to console]: \n",
            "\n",
            "R[write to console]: downloaded 832 KB\n",
            "\n",
            "\n",
            "R[write to console]: \n",
            "\n",
            "R[write to console]: \n",
            "R[write to console]: The downloaded source packages are in\n",
            "\t‘/tmp/RtmpGuiLzk/downloaded_packages’\n",
            "R[write to console]: \n",
            "R[write to console]: \n",
            "\n"
          ]
        }
      ]
    },
    {
      "cell_type": "code",
      "metadata": {
        "id": "7fBKH6QXTyZf",
        "colab": {
          "base_uri": "https://localhost:8080/"
        },
        "outputId": "597f000d-75a0-460e-980f-e0eb5d119869"
      },
      "source": [
        "%%R\n",
        "package_list <- c(\"dplyr\")\n",
        "\n",
        "for (pkg in package_list) {\n",
        "  if (pkg %in% rownames(.packages()) == FALSE)\n",
        "  {library(pkg, lib.loc = lib_loc, character.only = TRUE)}\n",
        "\n",
        "}"
      ],
      "execution_count": null,
      "outputs": [
        {
          "output_type": "stream",
          "name": "stderr",
          "text": [
            "R[write to console]: \n",
            "Attaching package: ‘dplyr’\n",
            "\n",
            "\n",
            "R[write to console]: The following objects are masked from ‘package:stats’:\n",
            "\n",
            "    filter, lag\n",
            "\n",
            "\n",
            "R[write to console]: The following objects are masked from ‘package:base’:\n",
            "\n",
            "    intersect, setdiff, setequal, union\n",
            "\n",
            "\n"
          ]
        }
      ]
    },
    {
      "cell_type": "code",
      "metadata": {
        "id": "kTkRvfHhfVqw"
      },
      "source": [
        "# Load general libraries\n",
        "import os\n",
        "import pandas as pd\n",
        "import numpy as np\n",
        "import glob\n",
        "import matplotlib.pyplot as plt\n",
        "from scipy.stats import mode"
      ],
      "execution_count": null,
      "outputs": []
    },
    {
      "cell_type": "markdown",
      "metadata": {
        "id": "VHygNZlUIOMh"
      },
      "source": [
        "# Load directories to work with"
      ]
    },
    {
      "cell_type": "code",
      "metadata": {
        "id": "4XEH4X1rYgly"
      },
      "source": [
        "# directories waarmee je gaat werken definiëren\n",
        "base_dir = '/content/gdrive/Shareddrives/Bovi-Analytics/Projects/JosjeScheurwater/ProjectHeatStressSensor/data'\n",
        "input_dir = '/in/THIData/'\n",
        "output_dir = '/out/'\n",
        "\n",
        "input_path = base_dir + input_dir\n",
        "output_path = base_dir + output_dir\n"
      ],
      "execution_count": null,
      "outputs": []
    },
    {
      "cell_type": "code",
      "metadata": {
        "colab": {
          "base_uri": "https://localhost:8080/"
        },
        "id": "E_1qXz8YmI0N",
        "outputId": "7b6de0e5-8bd6-4fdf-9712-4327721b7cd0"
      },
      "source": [
        "!ls /content/gdrive/'Shared drives'/Bovi-Analytics/Projects/JosjeScheurwater/ProjectHeatStressSensor/data/in/THIData/"
      ],
      "execution_count": null,
      "outputs": [
        {
          "output_type": "stream",
          "name": "stdout",
          "text": [
            "KNMI_DATA.csv  Knmi_stations.csv\n"
          ]
        }
      ]
    },
    {
      "cell_type": "code",
      "metadata": {
        "id": "tbLdozpPwIUE"
      },
      "source": [
        "df_stations = pd.read_csv(input_path + 'Knmi_stations.csv', header=0, sep = \";\", decimal='.', usecols=['HerdIdentifier','Station_number'])\n",
        "df_stations= df_stations.rename(columns= {'Station_number':'Location'})"
      ],
      "execution_count": null,
      "outputs": []
    },
    {
      "cell_type": "markdown",
      "metadata": {
        "id": "dkBjb3X0yAn_"
      },
      "source": [
        "# Read THI datafile"
      ]
    },
    {
      "cell_type": "markdown",
      "metadata": {
        "id": "jvus0EKfzBnU"
      },
      "source": [
        "## Features"
      ]
    },
    {
      "cell_type": "code",
      "metadata": {
        "colab": {
          "base_uri": "https://localhost:8080/",
          "height": 206
        },
        "id": "Y1D3NnbMnQzS",
        "outputId": "23ed4951-1f4c-4528-d617-44f004a8ccc9"
      },
      "source": [
        "df_thi = pd.read_csv(input_path + 'KNMI_DATA.csv', header=0, sep = \";\", decimal='.')\n",
        "df_thi['temperature']=df_thi.temperature.astype(float)\n",
        "df_thi['THI']=df_thi.THI.astype(float)\n",
        "df_thi['humidity']=df_thi.humidity.astype(float)\n",
        "df_thi['Date'] = pd.to_datetime(df_thi['date'], format='%Y%m%d')\n",
        "df_thi[\"Day\"] = df_thi['Date'].map(lambda x: x.day)\n",
        "df_thi[\"Month\"] = df_thi['Date'].map(lambda x: x.month)\n",
        "df_thi[\"Year\"] = df_thi['Date'].map(lambda x: x.year)\n",
        "df_thi= df_thi.rename(columns= {'location':'Location', 'temperature': 'Temperature', 'humidity': 'Humidity', 'hour': 'Hour'})\n",
        "del df_thi['Hour']\n",
        "del df_thi['date']\n",
        "df_thi.head(5)"
      ],
      "execution_count": null,
      "outputs": [
        {
          "output_type": "execute_result",
          "data": {
            "text/html": [
              "<div>\n",
              "<style scoped>\n",
              "    .dataframe tbody tr th:only-of-type {\n",
              "        vertical-align: middle;\n",
              "    }\n",
              "\n",
              "    .dataframe tbody tr th {\n",
              "        vertical-align: top;\n",
              "    }\n",
              "\n",
              "    .dataframe thead th {\n",
              "        text-align: right;\n",
              "    }\n",
              "</style>\n",
              "<table border=\"1\" class=\"dataframe\">\n",
              "  <thead>\n",
              "    <tr style=\"text-align: right;\">\n",
              "      <th></th>\n",
              "      <th>Location</th>\n",
              "      <th>Temperature</th>\n",
              "      <th>Humidity</th>\n",
              "      <th>THI</th>\n",
              "      <th>Date</th>\n",
              "      <th>Day</th>\n",
              "      <th>Month</th>\n",
              "      <th>Year</th>\n",
              "    </tr>\n",
              "  </thead>\n",
              "  <tbody>\n",
              "    <tr>\n",
              "      <th>0</th>\n",
              "      <td>275</td>\n",
              "      <td>0.4</td>\n",
              "      <td>99.0</td>\n",
              "      <td>32.86</td>\n",
              "      <td>2017-01-01</td>\n",
              "      <td>1</td>\n",
              "      <td>1</td>\n",
              "      <td>2017</td>\n",
              "    </tr>\n",
              "    <tr>\n",
              "      <th>1</th>\n",
              "      <td>275</td>\n",
              "      <td>0.3</td>\n",
              "      <td>99.0</td>\n",
              "      <td>32.68</td>\n",
              "      <td>2017-01-01</td>\n",
              "      <td>1</td>\n",
              "      <td>1</td>\n",
              "      <td>2017</td>\n",
              "    </tr>\n",
              "    <tr>\n",
              "      <th>2</th>\n",
              "      <td>275</td>\n",
              "      <td>0.2</td>\n",
              "      <td>99.0</td>\n",
              "      <td>32.50</td>\n",
              "      <td>2017-01-01</td>\n",
              "      <td>1</td>\n",
              "      <td>1</td>\n",
              "      <td>2017</td>\n",
              "    </tr>\n",
              "    <tr>\n",
              "      <th>3</th>\n",
              "      <td>275</td>\n",
              "      <td>0.0</td>\n",
              "      <td>99.0</td>\n",
              "      <td>32.14</td>\n",
              "      <td>2017-01-01</td>\n",
              "      <td>1</td>\n",
              "      <td>1</td>\n",
              "      <td>2017</td>\n",
              "    </tr>\n",
              "    <tr>\n",
              "      <th>4</th>\n",
              "      <td>275</td>\n",
              "      <td>0.0</td>\n",
              "      <td>99.0</td>\n",
              "      <td>32.14</td>\n",
              "      <td>2017-01-01</td>\n",
              "      <td>1</td>\n",
              "      <td>1</td>\n",
              "      <td>2017</td>\n",
              "    </tr>\n",
              "  </tbody>\n",
              "</table>\n",
              "</div>"
            ],
            "text/plain": [
              "   Location  Temperature  Humidity    THI       Date  Day  Month  Year\n",
              "0       275          0.4      99.0  32.86 2017-01-01    1      1  2017\n",
              "1       275          0.3      99.0  32.68 2017-01-01    1      1  2017\n",
              "2       275          0.2      99.0  32.50 2017-01-01    1      1  2017\n",
              "3       275          0.0      99.0  32.14 2017-01-01    1      1  2017\n",
              "4       275          0.0      99.0  32.14 2017-01-01    1      1  2017"
            ]
          },
          "metadata": {},
          "execution_count": 12
        }
      ]
    },
    {
      "cell_type": "markdown",
      "metadata": {
        "id": "FzIaT7fdyzwF"
      },
      "source": [
        "## Create df_KNMI_ym"
      ]
    },
    {
      "cell_type": "code",
      "metadata": {
        "id": "jqvY1maeu50x"
      },
      "source": [
        "df_KNMI_ym=df_thi.groupby(['Year','Month'], as_index=False).agg(\n",
        "    THI_mean= ('THI','mean'),\n",
        "    THI_min= ('THI','min'),\n",
        "    THI_max= ('THI','max'),\n",
        "    Temp_mean= ('Temperature','mean'),\n",
        "    Temp_min= ('Temperature','min'),\n",
        "    Temp_max= ('Temperature','max'),\n",
        "    Hum_mean= ('Humidity','mean'),\n",
        "    Hum_min= ('Humidity','min'),\n",
        "    Hum_max= ('Humidity','max')\n",
        "    )"
      ],
      "execution_count": null,
      "outputs": []
    },
    {
      "cell_type": "code",
      "metadata": {
        "id": "rpFFO7o--CFN"
      },
      "source": [
        "df_KNMI_ym.to_csv(output_path + 'df_KNMI_ym', sep = \";\", decimal='.', index=False)"
      ],
      "execution_count": null,
      "outputs": []
    },
    {
      "cell_type": "markdown",
      "metadata": {
        "id": "ENyys6X_zBKp"
      },
      "source": [
        "## Create df_KNMI_date"
      ]
    },
    {
      "cell_type": "code",
      "metadata": {
        "id": "8nrqxRSCvq6Y"
      },
      "source": [
        "df_KNMI_date=df_thi.groupby(['Year','Month', 'Day','Date'], as_index=False).agg(\n",
        "    THI_mean= ('THI','mean'),\n",
        "    THI_min= ('THI','min'),\n",
        "    THI_max= ('THI','max'),\n",
        "    Temp_mean= ('Temperature','mean'),\n",
        "    Temp_min= ('Temperature','min'),\n",
        "    Temp_max= ('Temperature','max'),\n",
        "    Hum_mean= ('Humidity','mean'),\n",
        "    Hum_min= ('Humidity','min'),\n",
        "    Hum_max= ('Humidity','max')\n",
        "    )"
      ],
      "execution_count": null,
      "outputs": []
    },
    {
      "cell_type": "code",
      "metadata": {
        "id": "01Fh-WX_4n4g"
      },
      "source": [
        "df_KNMI_date.to_csv(output_path + 'df_KNMI_date', sep = \";\", decimal='.', index=False)"
      ],
      "execution_count": null,
      "outputs": []
    },
    {
      "cell_type": "markdown",
      "metadata": {
        "id": "g8e1q-SrzJXn"
      },
      "source": [
        "## Create df_KNMI_herd"
      ]
    },
    {
      "cell_type": "code",
      "metadata": {
        "id": "d9l6zHe0zl8M"
      },
      "source": [
        "df_THI_merged = pd.merge(df_stations, df_thi, on=['Location'], how='outer')"
      ],
      "execution_count": null,
      "outputs": []
    },
    {
      "cell_type": "code",
      "metadata": {
        "id": "MoSuTUs88wMd"
      },
      "source": [
        "def thi_counter_from (col,t):\n",
        "  return col[col>=t].count()"
      ],
      "execution_count": null,
      "outputs": []
    },
    {
      "cell_type": "code",
      "metadata": {
        "id": "K4HLXoVwXXRu"
      },
      "source": [
        "def thi_counter_till (col,t):\n",
        "  return col[col<t].count()"
      ],
      "execution_count": null,
      "outputs": []
    },
    {
      "cell_type": "code",
      "metadata": {
        "id": "NVHBfCfj7YmQ"
      },
      "source": [
        "df_KNMI_herd=df_THI_merged.groupby(['HerdIdentifier','Date','Year','Month','Day'], as_index=False).agg(\n",
        "    THI_mean= ('THI','mean'),\n",
        "    THI_min= ('THI','min'),\n",
        "    THI_max= ('THI','max'),\n",
        "    Temp_mean= ('Temperature','mean'),\n",
        "    Temp_min= ('Temperature','min'),\n",
        "    Temp_max= ('Temperature','max'),\n",
        "    Hum_mean= ('Humidity','mean'),\n",
        "    Hum_min= ('Humidity','min'),\n",
        "    Hum_max= ('Humidity','max'),\n",
        "    THI_count60= ('THI', lambda x: thi_counter_from(x,t=60)),\n",
        "    THI_count72= ('THI', lambda x: thi_counter_from(x,t=72)),\n",
        "    THI_counttill60= ('THI', lambda x: thi_counter_till(x,t=60)),\n",
        "    Temp_count16= ('Temperature', lambda x: thi_counter_from(x,t=16)),\n",
        "    Temp_count20= ('Temperature', lambda x: thi_counter_from(x,t=20)),\n",
        "    Temp_counttill16= ('Temperature', lambda x: thi_counter_till(x,t=16)),\n",
        "    )"
      ],
      "execution_count": null,
      "outputs": []
    },
    {
      "cell_type": "code",
      "metadata": {
        "id": "LCgRp6uTrT2O"
      },
      "source": [
        "df_KNMI_herd['THI_mean_yesterday']= df_KNMI_herd['THI_mean'].shift(1)\n",
        "df_KNMI_herd['THI_mean_2daysbefore']= df_KNMI_herd['THI_mean'].shift(2)\n",
        "df_KNMI_herd['Temp_mean_yesterday']= df_KNMI_herd['Temp_mean'].shift(1)\n",
        "df_KNMI_herd['Temp_mean_2daysbefore']= df_KNMI_herd['Temp_mean'].shift(2)"
      ],
      "execution_count": null,
      "outputs": []
    },
    {
      "cell_type": "markdown",
      "metadata": {
        "id": "e4qMQSPPLsFV"
      },
      "source": [
        "### Create_df_KNMI_herd"
      ]
    },
    {
      "cell_type": "code",
      "metadata": {
        "id": "vLnA1OKz52Sj"
      },
      "source": [
        "df_KNMI_herd.to_csv(output_path + 'df_KNMI_herd.csv', sep = \";\", decimal='.', index=False)"
      ],
      "execution_count": null,
      "outputs": []
    },
    {
      "cell_type": "markdown",
      "metadata": {
        "id": "Tp0rKFZTK5wf"
      },
      "source": [
        "### Create df_KNMI_per3"
      ]
    },
    {
      "cell_type": "code",
      "metadata": {
        "id": "2_ZQHySocZgw"
      },
      "source": [
        "%%R\n",
        "df_KNMI_herd <-read.csv(file= '/content/gdrive/Shareddrives/Bovi-Analytics/Projects/JosjeScheurwater/ProjectHeatStressSensor/data/out/df_KNMI_herd.csv', sep = \";\" )"
      ],
      "execution_count": null,
      "outputs": []
    },
    {
      "cell_type": "code",
      "metadata": {
        "id": "1OxakfRpBi5P"
      },
      "source": [
        "%%R\n",
        "df_KNMI_3 <- df_KNMI_herd %>%\n",
        "  dplyr::mutate (ThiMean1daybeforeCat= case_when(THI_mean_yesterday < 30 ~ 0,\n",
        "                                   THI_mean_yesterday < 57 ~ 1, \n",
        "                                   THI_mean_yesterday < 60 ~ 2,\n",
        "                                   THI_mean_yesterday < 63 ~ 3,\n",
        "                                   THI_mean_yesterday < 66 ~ 4,      \n",
        "                                   THI_mean_yesterday < 69 ~ 5,  \n",
        "                                   THI_mean_yesterday < 72 ~ 6,                                                                                                 \n",
        "                                   THI_mean_yesterday >= 72 ~ 7)) %>%\n",
        "  dplyr::mutate (ThiMean2daysbeforeCat= case_when(THI_mean_2daysbefore < 30 ~ 0,\n",
        "                                   THI_mean_2daysbefore < 57 ~ 1, \n",
        "                                   THI_mean_2daysbefore < 60 ~ 2,\n",
        "                                   THI_mean_2daysbefore < 63 ~ 3,\n",
        "                                   THI_mean_2daysbefore < 66 ~ 4,      \n",
        "                                   THI_mean_2daysbefore < 69 ~ 5,  \n",
        "                                   THI_mean_2daysbefore < 72 ~ 6,                                                                                                 \n",
        "                                   THI_mean_2daysbefore >= 72 ~ 7)) %>%\n",
        "  dplyr::mutate (ThiMeanCat= case_when(THI_mean < 30 ~ 0,\n",
        "                                   THI_mean < 57 ~ 1, \n",
        "                                   THI_mean < 60 ~ 2,\n",
        "                                   THI_mean < 63 ~ 3,\n",
        "                                   THI_mean < 66 ~ 4,      \n",
        "                                   THI_mean < 69 ~ 5,  \n",
        "                                   THI_mean < 72 ~ 6,                                                                                                 \n",
        "                                   THI_mean >= 72 ~ 7)) %>%                               \n",
        "  dplyr::mutate (ThiMinCat= case_when(THI_min < 35 ~ 0,\n",
        "                                   THI_min < 45 ~ 1, \n",
        "                                   THI_min < 48 ~ 2,\n",
        "                                   THI_min < 51 ~ 3,\n",
        "                                   THI_min < 54 ~ 4,\n",
        "                                   THI_min < 57 ~ 5,\n",
        "                                   THI_min < 60 ~ 6,\n",
        "                                   THI_min >= 60 ~ 7)) %>%    \n",
        "  dplyr::mutate (ThiMaxCat= case_when(THI_max < 30 ~ 0,\n",
        "                                   THI_max < 57 ~ 1, \n",
        "                                   THI_max < 60 ~ 2,\n",
        "                                   THI_max < 63 ~ 3,\n",
        "                                   THI_max < 66 ~ 4,   \n",
        "                                   THI_max < 69 ~ 5,                             \n",
        "                                   THI_max < 72 ~ 6, \n",
        "                                   THI_max >= 72 ~ 7)) %>%                                                                   \n",
        "  dplyr::mutate (TempMeanCat = case_when(Temp_mean < 0 ~ 0, \n",
        "                                   Temp_mean < 13 ~ 1,\n",
        "                                   Temp_mean < 16 ~ 2,\n",
        "                                   Temp_mean < 19 ~ 3, \n",
        "                                   Temp_mean < 22 ~ 4,                               \n",
        "                                   Temp_mean < 25 ~ 5,\n",
        "                                   Temp_mean < 28 ~ 6,                              \n",
        "                                   Temp_mean >= 28 ~ 7)) %>%\n",
        "  dplyr::mutate (TempMinCat = case_when(Temp_min < 0 ~ 0, \n",
        "                                   Temp_min < 4 ~ 1,\n",
        "                                   Temp_min < 7 ~ 2,\n",
        "                                   Temp_min < 10 ~ 3, \n",
        "                                   Temp_min < 13 ~ 4, \n",
        "                                   Temp_min < 16 ~ 5,\n",
        "                                   Temp_min < 20 ~ 6,                                                                    \n",
        "                                   Temp_min >= 20 ~ 7)) %>%\n",
        "  dplyr::mutate (TempMaxCat = case_when(Temp_max < 0 ~ 0, \n",
        "                                   Temp_max < 13 ~ 1,\n",
        "                                   Temp_max < 16 ~ 2,\n",
        "                                   Temp_max < 19 ~ 3, \n",
        "                                   Temp_max < 22 ~ 4,                               \n",
        "                                   Temp_max < 25 ~ 5,\n",
        "                                   Temp_max < 28 ~ 6,                              \n",
        "                                   Temp_max >= 28 ~ 7)) %>%   \n",
        "    dplyr::mutate (TempMean1daybeforeCat= case_when(Temp_mean_yesterday < 0 ~ 0,\n",
        "                                   Temp_mean_yesterday < 12 ~ 1, \n",
        "                                   Temp_mean_yesterday < 16 ~ 2,\n",
        "                                   Temp_mean_yesterday < 19 ~ 3,\n",
        "                                   Temp_mean_yesterday < 22 ~ 4,      \n",
        "                                   Temp_mean_yesterday < 25 ~ 5,  \n",
        "                                   Temp_mean_yesterday < 28 ~ 6,                                                                                                 \n",
        "                                   Temp_mean_yesterday >= 28 ~ 7)) %>%\n",
        "  dplyr::mutate (TempMean2daysbeforeCat= case_when(Temp_mean_2daysbefore < 0 ~ 0,\n",
        "                                   Temp_mean_2daysbefore < 12 ~ 1, \n",
        "                                   Temp_mean_2daysbefore < 16 ~ 2,\n",
        "                                   Temp_mean_2daysbefore < 19 ~ 3,\n",
        "                                   Temp_mean_2daysbefore < 22 ~ 4,      \n",
        "                                   Temp_mean_2daysbefore < 25 ~ 5,  \n",
        "                                   Temp_mean_2daysbefore < 28 ~ 6,                                                                                                 \n",
        "                                   Temp_mean_2daysbefore >= 28 ~ 7)) %>%\n",
        "  dplyr::mutate (Thi6Hrs60 = case_when(THI_counttill60 < 6 ~ 0, \n",
        "                                   THI_counttill60 >= 6 ~ 1)) %>%     \n",
        "  dplyr::mutate (Temp6Hrs16 = case_when(Temp_counttill16 < 6 ~ 0, \n",
        "                                   Temp_counttill16 >= 6 ~ 1))"
      ],
      "execution_count": null,
      "outputs": []
    },
    {
      "cell_type": "code",
      "metadata": {
        "id": "DXGossJeMMhr"
      },
      "source": [
        "%%R\n",
        "write.csv(df_KNMI_3, '/content/gdrive/Shareddrives/Bovi-Analytics/Projects/JosjeScheurwater/ProjectHeatStressSensor/data/out/df_KNMI_per3.csv', sep = \";\")"
      ],
      "execution_count": null,
      "outputs": []
    },
    {
      "cell_type": "markdown",
      "metadata": {
        "id": "WPKwi5g9MCR4"
      },
      "source": [
        "### Create df_KNMI_per4"
      ]
    },
    {
      "cell_type": "code",
      "metadata": {
        "id": "5HoQVOzR0x1W"
      },
      "source": [
        "%%R\n",
        "df_KNMI_per4 <- df_KNMI_herd %>%\n",
        " dplyr::mutate (ThiMean1daybeforeCat= case_when(THI_mean_yesterday < 30 ~ 0,\n",
        "                                   THI_mean_yesterday < 56 ~ 1, \n",
        "                                   THI_mean_yesterday < 60 ~ 2,\n",
        "                                   THI_mean_yesterday < 64 ~ 3,\n",
        "                                   THI_mean_yesterday < 68 ~ 4,\n",
        "                                   THI_mean_yesterday < 72 ~ 5,                                \n",
        "                                   THI_mean_yesterday >= 72 ~ 6)) %>%\n",
        " dplyr::mutate (ThiMean2daysbeforeCat= case_when(THI_mean_2daysbefore < 30 ~ 0,\n",
        "                                   THI_mean_2daysbefore < 56 ~ 1, \n",
        "                                   THI_mean_2daysbefore < 60 ~ 2,\n",
        "                                   THI_mean_2daysbefore < 64 ~ 3,\n",
        "                                   THI_mean_2daysbefore < 68 ~ 4,\n",
        "                                   THI_mean_2daysbefore < 72 ~ 5,                                \n",
        "                                   THI_mean_2daysbefore >= 72 ~ 6)) %>%                                   \n",
        " dplyr::mutate (ThiMeanCat= case_when(THI_mean < 30 ~ 0,\n",
        "                                   THI_mean < 56 ~ 1, \n",
        "                                   THI_mean < 60 ~ 2,\n",
        "                                   THI_mean < 64 ~ 3,\n",
        "                                   THI_mean < 68 ~ 4,\n",
        "                                   THI_mean < 72 ~ 5,                                \n",
        "                                   THI_mean >= 72 ~ 6)) %>%                                                                        \n",
        " dplyr::mutate (ThiMinCat= case_when(THI_min < 30 ~ 0, \n",
        "                                   THI_min < 48 ~ 1,\n",
        "                                   THI_min < 52 ~ 2,\n",
        "                                   THI_min < 56 ~ 3,                                \n",
        "                                   THI_min < 60 ~ 4,\n",
        "                                   THI_min < 64 ~ 5,                                \n",
        "                                   THI_min >= 64 ~ 6)) %>%    \n",
        "  dplyr::mutate (ThiMaxCat= case_when(THI_max < 30 ~ 0,\n",
        "                                   THI_max < 56 ~ 1, \n",
        "                                   THI_max < 60 ~ 2,\n",
        "                                   THI_max < 64 ~ 3,\n",
        "                                   THI_max < 68 ~ 4,   \n",
        "                                   THI_max < 72 ~ 5,                             \n",
        "                                   THI_max >= 72 ~ 6)) %>%                                                                   \n",
        "  dplyr::mutate (TempMeanCat = case_when(Temp_mean < 0 ~ 0, \n",
        "                                   Temp_mean < 12 ~ 1,\n",
        "                                   Temp_mean < 16 ~ 2,\n",
        "                                   Temp_mean < 20 ~ 3, \n",
        "                                   Temp_mean < 24 ~ 4, \n",
        "                                   Temp_mean < 28 ~ 5,                               \n",
        "                                   Temp_mean >= 28 ~ 6)) %>%\n",
        "  dplyr::mutate (TempMean1daybeforeCat = case_when(Temp_mean_yesterday < 0 ~ 0, \n",
        "                                   Temp_mean_yesterday < 12 ~ 1,\n",
        "                                   Temp_mean_yesterday < 16 ~ 2,\n",
        "                                   Temp_mean_yesterday < 20 ~ 3, \n",
        "                                   Temp_mean_yesterday < 24 ~ 4, \n",
        "                                   Temp_mean_yesterday < 28 ~ 5,                               \n",
        "                                   Temp_mean_yesterday >= 28 ~ 6)) %>%   \n",
        " dplyr::mutate (TempMean2daysbeforeCat= case_when(Temp_mean_2daysbefore < 0 ~ 0,\n",
        "                                   Temp_mean_2daysbefore < 12 ~ 1, \n",
        "                                   Temp_mean_2daysbefore < 16 ~ 2,\n",
        "                                   Temp_mean_2daysbefore < 20 ~ 3,\n",
        "                                   Temp_mean_2daysbefore < 24 ~ 4,\n",
        "                                   Temp_mean_2daysbefore < 28 ~ 5,                                \n",
        "                                   Temp_mean_2daysbefore >= 28 ~ 6)) %>%                                                                     \n",
        "  dplyr::mutate (TempMinCat = case_when(Temp_min < 0 ~ 0, \n",
        "                                   Temp_min < 4 ~ 1,\n",
        "                                   Temp_min < 8 ~ 2, \n",
        "                                   Temp_min < 12 ~ 3, \n",
        "                                   Temp_min < 16 ~ 4,  \n",
        "                                   Temp_min < 20 ~ 5,                              \n",
        "                                   Temp_min >= 20 ~ 6)) %>%\n",
        "  dplyr::mutate (TempMaxCat = case_when(Temp_max < 0 ~ 0, \n",
        "                                   Temp_max < 12 ~ 1,\n",
        "                                   Temp_max < 16 ~ 2, \n",
        "                                   Temp_max < 20 ~ 3,\n",
        "                                   Temp_max < 24 ~ 4,                                \n",
        "                                   Temp_max < 28 ~ 5,\n",
        "                                   Temp_max >= 28 ~ 6)) %>%    \n",
        "  dplyr::mutate (Thi6Hrs60 = case_when(THI_counttill60 < 6 ~ 0, \n",
        "                                   THI_counttill60 >= 6 ~ 1)) %>%     \n",
        "  dplyr::mutate (Temp6Hrs16 = case_when(Temp_counttill16 < 6 ~ 0, \n",
        "                                   Temp_counttill16 >= 6 ~ 1))                                                                    "
      ],
      "execution_count": null,
      "outputs": []
    },
    {
      "cell_type": "code",
      "metadata": {
        "id": "w4F30AW8MXf8"
      },
      "source": [
        "%%R\n",
        "write.csv(df_KNMI_per4, '/content/gdrive/Shareddrives/Bovi-Analytics/Projects/JosjeScheurwater/ProjectHeatStressSensor/data/out/df_KNMI_per4.csv', sep = \";\")"
      ],
      "execution_count": null,
      "outputs": []
    },
    {
      "cell_type": "markdown",
      "metadata": {
        "id": "qEpg99jRL-G3"
      },
      "source": [
        "### Create df_KNMI_per5"
      ]
    },
    {
      "cell_type": "code",
      "metadata": {
        "id": "PrWBxHPfxEey"
      },
      "source": [
        "%%R\n",
        "df_KNMI_per5 <- df_KNMI_herd%>%\n",
        "  dplyr::mutate (ThiMeanCat= case_when(THI_mean < 30 ~ 0,\n",
        "                                   THI_mean < 55 ~ 1, \n",
        "                                   THI_mean < 60 ~ 2,\n",
        "                                   THI_mean < 65 ~ 3,\n",
        "                                   THI_mean < 70 ~ 4,                                \n",
        "                                   THI_mean >= 70 ~ 5)) %>%\n",
        "  dplyr::mutate (ThiMean1daybeforeCat= case_when(THI_mean_yesterday < 30 ~ 0,\n",
        "                                   THI_mean_yesterday < 55 ~ 1, \n",
        "                                   THI_mean_yesterday < 60 ~ 2,\n",
        "                                   THI_mean_yesterday < 65 ~ 3,\n",
        "                                   THI_mean_yesterday < 70 ~ 4,                                \n",
        "                                   THI_mean_yesterday >= 70 ~ 5)) %>%\n",
        "  dplyr::mutate (ThiMean2daysbeforeCat= case_when(THI_mean_2daysbefore < 30 ~ 0,\n",
        "                                   THI_mean_2daysbefore < 55 ~ 1, \n",
        "                                   THI_mean_2daysbefore < 60 ~ 2,\n",
        "                                   THI_mean_2daysbefore < 65 ~ 3,\n",
        "                                   THI_mean_2daysbefore < 70 ~ 4,                                \n",
        "                                   THI_mean_2daysbefore >= 70 ~ 5)) %>%                                                                      \n",
        " dplyr::mutate (ThiMinCat= case_when(THI_min < 30 ~ 0,\n",
        "                                   THI_min < 45 ~ 1, \n",
        "                                   THI_min < 50 ~ 2,\n",
        "                                   THI_min < 55 ~ 3,\n",
        "                                   THI_min < 60 ~ 4,                                \n",
        "                                   THI_min >= 60 ~ 5)) %>%    \n",
        "  dplyr::mutate (ThiMaxCat= case_when(THI_max < 30 ~ 0,\n",
        "                                   THI_max < 55 ~ 1, \n",
        "                                   THI_max < 60 ~ 2,\n",
        "                                   THI_max < 65 ~ 3,\n",
        "                                   THI_max < 70 ~ 4,   \n",
        "                                   THI_max >= 70 ~ 5)) %>%                                                                   \n",
        "  dplyr::mutate (TempMeanCat = case_when(Temp_mean < 0 ~ 0, \n",
        "                                   Temp_mean < 10 ~ 1,\n",
        "                                   Temp_mean < 15 ~ 2,\n",
        "                                   Temp_mean < 20 ~ 3, \n",
        "                                   Temp_mean < 25 ~ 4,                           \n",
        "                                   Temp_mean >= 25 ~ 5)) %>%\n",
        "  dplyr::mutate (TempMean1daybeforeCat = case_when(Temp_mean_yesterday < 0 ~ 0, \n",
        "                                   Temp_mean_yesterday < 10 ~ 1,\n",
        "                                   Temp_mean_yesterday < 15 ~ 2,\n",
        "                                   Temp_mean_yesterday < 20 ~ 3, \n",
        "                                   Temp_mean_yesterday < 25 ~ 4,                           \n",
        "                                   Temp_mean_yesterday >= 25 ~ 5)) %>%\n",
        "  dplyr::mutate (TempMean2daysbeforeCat = case_when(Temp_mean_2daysbefore < 0 ~ 0, \n",
        "                                   Temp_mean_2daysbefore < 10 ~ 1,\n",
        "                                   Temp_mean_2daysbefore < 15 ~ 2,\n",
        "                                   Temp_mean_2daysbefore < 20 ~ 3, \n",
        "                                   Temp_mean_2daysbefore < 25 ~ 4,                           \n",
        "                                   Temp_mean_2daysbefore >= 25 ~ 5)) %>%                                                                      \n",
        "  dplyr::mutate (TempMinCat = case_when(Temp_min < 0 ~ 0, \n",
        "                                   Temp_min < 5 ~ 1,\n",
        "                                   Temp_min < 10 ~ 2, \n",
        "                                   Temp_min < 15 ~ 3, \n",
        "                                   Temp_min < 20 ~ 4,                                 \n",
        "                                   Temp_min >= 20 ~ 5)) %>%\n",
        "  dplyr::mutate (TempMaxCat = case_when(Temp_max < 0 ~ 0, \n",
        "                                   Temp_max < 10 ~ 1,\n",
        "                                   Temp_max < 15 ~ 2, \n",
        "                                   Temp_max < 20 ~ 3,\n",
        "                                   Temp_max < 25 ~ 4,                                \n",
        "                                   Temp_max >= 25 ~ 5)) %>%    \n",
        "  dplyr::mutate (Thi6Hrs60 = case_when(THI_counttill60 < 6 ~ 0, \n",
        "                                   THI_counttill60 >= 6 ~ 1)) %>%     \n",
        "  dplyr::mutate (Temp6Hrs16 = case_when(Temp_counttill16 < 6 ~ 0, \n",
        "                                   Temp_counttill16 >= 6 ~ 1))  "
      ],
      "execution_count": null,
      "outputs": []
    },
    {
      "cell_type": "code",
      "metadata": {
        "id": "x3GgLYIuMcdu"
      },
      "source": [
        "%%R\n",
        "write.csv(df_KNMI_per5, '/content/gdrive/Shareddrives/Bovi-Analytics/Projects/JosjeScheurwater/ProjectHeatStressSensor/data/out/df_KNMI_per5.csv', sep = \";\")"
      ],
      "execution_count": null,
      "outputs": []
    }
  ]
}